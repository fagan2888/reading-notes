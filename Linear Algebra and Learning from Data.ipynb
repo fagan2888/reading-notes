{
 "cells": [
  {
   "cell_type": "markdown",
   "metadata": {},
   "source": [
    "## Linear Algebra and Learning from Data\n",
    "\n",
    "This is one recent book from Prof. Gilbert Strang.\n"
   ]
  },
  {
   "cell_type": "markdown",
   "metadata": {},
   "source": [
    "### Chapter One Highlights of linear algebra\n",
    "\n",
    "1. $\\mathbf{A}x$ is a linear combination of the columns of A. This is fundamental. It is also the column space of A\n",
    "\n",
    "2. Three independent columns in $\\mathbf{R}^3$ produce an invertible matrix A. And $\\mathbf{A}x=0$ require x=0 and $\\mathbf{A}x=b$ has exactly one solution.\n",
    "\n",
    "3. Factorization: $\\mathbf{A}=\\mathbf{R}\\mathbf{C}$. (m by n)=(m by r) by (r by n). Here, $\\mathbf{C}$ will be independent columns in A. SVD of A is that C contain r orthogonal columns and R has r orthogonal rows.\n",
    "\n",
    "4. $\\mathbf{A}\\mathbf{B}$ can be regarded as the sum of columns-row multiplication i.e. rank-one matrices. It is essential in data science. The short answer is: we are looking for the important part of a matrix $\\mathbf{A}$. \n",
    "\n",
    "5. Matrix Factorization:\n",
    "\n",
    "    *  $\\mathbf{A} = \\mathbf{L}\\mathbf{U}$ (from elimination)\n",
    "    *  $\\mathbf{A} = \\mathbf{Q}\\mathbf{R}$ (from orthogonalizing, i.e.m Gram-Schmidt). Here, Q has orthonormal columns.\n",
    "    * $\\mathbf{S} = \\mathbf{Q}diag\\mathbf{Q}^T$. Eigenvalues and orthonormal eigenvectors are in the matrices. It is also called spectral theorm.\n",
    "    * $\\mathbf{A} = \\mathbf{X}diag\\mathbf{X}^{-1}$. is **diagonalization** when A is n by n matrix with n independent eigenvectors. \n",
    "    * SVD: $\\mathbf{A} = \\mathbf{U}\\sum\\mathbf{V}^T$. Here, $\\mathbf{U}\\mathbf{U}^T=\\mathbf{I}$ and $\\mathbf{V}\\mathbf{V}^T=\\mathbf{I}$"
   ]
  },
  {
   "cell_type": "code",
   "execution_count": null,
   "metadata": {},
   "outputs": [],
   "source": []
  }
 ],
 "metadata": {
  "kernelspec": {
   "display_name": "bt5153",
   "language": "python",
   "name": "bt5153"
  },
  "language_info": {
   "codemirror_mode": {
    "name": "ipython",
    "version": 3
   },
   "file_extension": ".py",
   "mimetype": "text/x-python",
   "name": "python",
   "nbconvert_exporter": "python",
   "pygments_lexer": "ipython3",
   "version": "3.6.4"
  }
 },
 "nbformat": 4,
 "nbformat_minor": 2
}
